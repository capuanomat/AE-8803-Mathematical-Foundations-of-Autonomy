{
 "cells": [
  {
   "cell_type": "code",
   "execution_count": 6,
   "metadata": {},
   "outputs": [
    {
     "name": "stdout",
     "output_type": "stream",
     "text": [
      "1.0\n",
      "0.7999999999999999\n"
     ]
    }
   ],
   "source": [
    "print(0.108 + 0.012 + 0.072 + 0.008)\n",
    "print(0.016 + 0.064 + 0.144 + 0.576)"
   ]
  },
  {
   "cell_type": "markdown",
   "metadata": {},
   "source": [
    "# <center> AE 8803: Homework 3</center>"
   ]
  },
  {
   "cell_type": "markdown",
   "metadata": {},
   "source": [
    "## <center> Problem 1 </center>"
   ]
  },
  {
   "cell_type": "markdown",
   "metadata": {},
   "source": [
    "Check Overleaf Submission."
   ]
  },
  {
   "cell_type": "markdown",
   "metadata": {},
   "source": [
    "## <center> Problem 2 </center>"
   ]
  },
  {
   "cell_type": "markdown",
   "metadata": {},
   "source": [
    "### Definining the State Space\n",
    "The state space defined below is based on the MazeGrid world we defined in Homework 2, which was very similar. The key differences are that the obstacles are now just regular grid elements with highly negative weights (so the agent can still cross them but at a high penalty), and that every grid element now has an associated cost. The environment also becomes non-deterministic, so every grid element has probabilities associated with motion."
   ]
  },
  {
   "cell_type": "code",
   "execution_count": 1,
   "metadata": {},
   "outputs": [],
   "source": [
    "import copy\n",
    "\n",
    "class MazeGrid():\n",
    "    \"\"\"Class to define our state space and grid maze problem, custizable.\"\"\"\n",
    "    \n",
    "    def __init__(self, grid_x_size, grid_y_size, pitfall_indices, start_state, goal_state):\n",
    "        self.grid_x_size = grid_x_size;\n",
    "        self.grid_y_size = grid_y_size;\n",
    "        \n",
    "        # Building the grid indices (without obstacles for now)\n",
    "        self.grid_indices = [(x, y) for x in range(grid_x_size) for y in range(grid_y_size)]\n",
    "        self.pitfall_indices = pitfall_indices;\n",
    "        \n",
    "        # Building the grid as a dictionary of indices to a text value (either \"_\" or a block if obstacle)\n",
    "        self.build_grid()\n",
    "        \n",
    "        self.start_state = start_state\n",
    "        self.goal_state = goal_state\n",
    "        \n",
    "        self.grid[start_state] = 'A'\n",
    "        self.grid[goal_state] = 'B'\n",
    "        \n",
    "    def build_grid(self):\n",
    "        \"\"\"Function to build the grid once the dimensions and obstacles are defined\"\"\"\n",
    "        self.grid = {}\n",
    "        for entry in self.grid_indices:\n",
    "            self.grid[entry] = '_'\n",
    "            if entry in self.obstacle_indices:\n",
    "                self.grid[entry] = '\\u2588'\n",
    "    \n",
    "    def print_grid(self):\n",
    "        \"\"\"Function to display the grid. Not the prettiest, but does its job.\"\"\"\n",
    "        for y in range(self.grid_y_size - 1, -1, -1):\n",
    "            for x in range(self.grid_x_size):\n",
    "                coordinate = (x, y)\n",
    "                if (x == self.grid_x_size - 1):\n",
    "                    print(self.grid[coordinate])\n",
    "                else:\n",
    "                    print(self.grid[coordinate], end = ' ')\n",
    "                    \n",
    "    def is_goal_state(self, state):\n",
    "        \"\"\"Function to check if a given state is the goal state.\"\"\"\n",
    "        return state == self.goal_state\n",
    "        \n",
    "    def find_neighbors(self, state):\n",
    "        \"\"\"Function to find neighboring states.\n",
    "        We don't define specific actions, so this is effectively our transition function.\n",
    "        \n",
    "        Args:\n",
    "            state: The current state, (x, y), of which we need to returnvalid neighbors (not obstacles).\n",
    "            \n",
    "        Returns:\n",
    "            neighbors: A list of accessible neighbors from state, this is a lit of (x, y) coordinates.\n",
    "        \"\"\"\n",
    "        neighbor_transforms = [(-1, 0), (0, -1), (1, 0), (0, 1)]\n",
    "        neighbors = []\n",
    "        for transform in neighbor_transforms:\n",
    "            new_x = state[0] + transform[0]\n",
    "            new_y = state[1] + transform[1]\n",
    "            if ((0 <= new_x) and (new_x < self.grid_x_size) and \n",
    "                (0 <= new_y) and (new_y < self.grid_y_size) and \n",
    "                ((new_x, new_y) not in self.obstacle_indices)):\n",
    "                neighbors.append((new_x, new_y))\n",
    "\n",
    "        # NOTE: You could basically do all the above in one line with this list comprehension, but it wouldn't be very readable:\n",
    "        # neighbors = [(curr_state[0] + transform[0], curr_state[1] + transform[1]) if (((curr_state[0] + transform[0]) >= 0) and ((curr_state[1] + transform[1]) >= 0) and ((curr_state[0] + transform[0]) < map_x_size) and ((curr_state[1] + transform[1]) < map_y_size) and (((curr_state[0] + transform[0]), (curr_state[1] + transform[1])) not in obstacle_indices)) else None for transform in neighbor_transforms]    \n",
    "        \n",
    "        return neighbors\n",
    "    \n",
    "    def print_path(self, states):\n",
    "        \"\"\"Function to add x's on the grid along the set of states defined by the input.\n",
    "        Note that we don't check if any of those states are obstacles, it is assumed that the given path is valid.\n",
    "        \n",
    "        Args:\n",
    "            states: A list of states, (x, y), travelled along the grid.\n",
    "        \"\"\"\n",
    "        grid_copy = copy.deepcopy(self)\n",
    "        \n",
    "        for state in states:\n",
    "            grid_copy.grid[state] = 'x'\n",
    "    \n",
    "        grid_copy.print_grid()"
   ]
  },
  {
   "cell_type": "markdown",
   "metadata": {},
   "source": [
    "#### Testing our GridMaze"
   ]
  },
  {
   "cell_type": "code",
   "execution_count": 2,
   "metadata": {},
   "outputs": [
    {
     "name": "stdout",
     "output_type": "stream",
     "text": [
      "\n",
      "***** Grid 1 *****\n",
      "█ _ _ _ _ █ _ _\n",
      "_ _ _ _ _ _ _ B\n",
      "_ _ _ █ _ _ _ _\n",
      "_ _ _ █ █ _ _ █\n",
      "_ █ _ _ _ _ _ _\n",
      "_ █ _ _ _ █ _ _\n",
      "A _ _ _ _ █ _ _\n",
      "[(0, 0), (2, 0)]\n",
      "[(2, 1), (3, 0), (4, 1), (3, 2)]\n",
      "[(6, 0), (7, 1)]\n"
     ]
    }
   ],
   "source": [
    "# First grid is the one given for the homework problem #\n",
    "print('\\n***** Grid 1 *****')\n",
    "grid1 = MazeGrid(8, 7, [(0, 6), (1, 1), (1, 2), (3, 3), (3, 4), (4, 3), (5, 0), (5, 1), (5, 6), (7, 3)], (0, 0), (7, 5))\n",
    "grid1.print_grid()\n",
    "\n",
    "# Testing fetching neighbors:\n",
    "print(grid1.find_neighbors((1, 0)))  # Should be [(0, 0), (2, 0)]\n",
    "print(grid1.find_neighbors((3, 1)))  # Should be [(2, 1), (3, 0), (4, 1), (3, 2)]\n",
    "print(grid1.find_neighbors((7, 0)))  # Should be [(6, 0), (7, 1)]"
   ]
  },
  {
   "cell_type": "code",
   "execution_count": 3,
   "metadata": {},
   "outputs": [
    {
     "name": "stdout",
     "output_type": "stream",
     "text": [
      "\n",
      "***** Grid 2 *****\n",
      "_ _ _ _ _ _ _ _ _ _ _ _ _ _ _\n",
      "_ _ _ _ _ _ _ _ _ _ _ _ _ _ _\n",
      "_ _ _ _ _ _ _ _ _ _ _ _ _ _ _\n",
      "█ █ █ █ █ █ █ █ _ _ _ _ _ _ _\n",
      "_ _ _ _ _ _ _ █ _ _ _ _ B _ _\n",
      "_ _ _ █ _ _ _ █ _ _ _ _ _ _ _\n",
      "_ _ _ █ █ _ _ █ _ _ _ _ _ _ _\n",
      "_ █ _ _ _ _ _ _ _ _ _ _ _ _ _\n",
      "_ █ _ _ _ █ _ _ _ _ _ _ _ _ _\n",
      "A _ _ _ _ █ _ _ _ _ _ _ _ _ _\n",
      "[(0, 1), (0, 3)]\n",
      "[(5, 5), (6, 4)]\n",
      "[(9, 8), (10, 7), (11, 8), (10, 9)]\n"
     ]
    }
   ],
   "source": [
    "# Second grid is more complex one for testing purposes #\n",
    "print('\\n***** Grid 2 *****')\n",
    "obstacle_indices2 = [(0, 6), (1, 6), (2, 6), (3, 6), (4, 6), (5, 6), (6, 6), (7, 6), (7, 5), (7, 4), (1, 1), (1, 2), (3, 3), \n",
    "                     (3, 4), (4, 3), (5, 0), (5, 1), (7, 3)]\n",
    "grid2 = MazeGrid(15, 10, obstacle_indices2, (0, 0), (12, 5))\n",
    "grid2.print_grid()\n",
    "\n",
    "# Testing fetching neighbors:\n",
    "print(grid2.find_neighbors((0, 2)))   # Should be [(0, 1), (0, 3)]\n",
    "print(grid2.find_neighbors((6, 5)))   # Should be [(5, 5), (6, 4)]\n",
    "print(grid2.find_neighbors((10, 8)))  # Should be [(9, 8), (10, 7), (11, 8), (10, 9)]"
   ]
  },
  {
   "cell_type": "markdown",
   "metadata": {},
   "source": [
    "### Other Key Parameters"
   ]
  },
  {
   "cell_type": "code",
   "execution_count": null,
   "metadata": {},
   "outputs": [],
   "source": []
  }
 ],
 "metadata": {
  "kernelspec": {
   "display_name": "Python 3",
   "language": "python",
   "name": "python3"
  },
  "language_info": {
   "codemirror_mode": {
    "name": "ipython",
    "version": 3
   },
   "file_extension": ".py",
   "mimetype": "text/x-python",
   "name": "python",
   "nbconvert_exporter": "python",
   "pygments_lexer": "ipython3",
   "version": "3.6.3"
  }
 },
 "nbformat": 4,
 "nbformat_minor": 2
}
